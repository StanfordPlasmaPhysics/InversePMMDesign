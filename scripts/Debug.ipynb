{
 "cells": [
  {
   "cell_type": "code",
   "execution_count": 2,
   "id": "83d30032",
   "metadata": {},
   "outputs": [
    {
     "name": "stdout",
     "output_type": "stream",
     "text": [
      "{'array-x': 10, 'array-y': 10, 'serial_ports': {'/dev/tty.usbserial-AB0MNPBN': [76, 77, 78, 79, 80, 81, 82, 83, 84, 85, 86, 87, 88, 89, 90, 91, 92, 93, 94, 95, 96, 97, 98, 99, 100]}, 'env': {'name': 'ceviche', 'type': 'anaconda'}}\n",
      "{'array-x': 10, 'array-y': 10, 'serial_ports': {'/dev/tty.usbserial-AB0MNPBN': [76, 77, 78, 79, 80, 81, 82, 83, 84, 85, 86, 87, 88, 89, 90, 91, 92, 93, 94, 95, 96, 97, 98, 99, 100]}, 'env': {'name': 'ceviche', 'type': 'anaconda'}}\n"
     ]
    }
   ],
   "source": [
    "import numpy as np\n",
    "from PMM.PMMInverse import PMMI\n",
    "from PMM.PMMInSitu import PMMInSitu\n",
    "import os\n",
    "\n",
    "conf_file = '../confs/conf.yaml'\n",
    "PPCI = PMMInSitu(conf_file)\n",
    "print(PPCI.config)"
   ]
  },
  {
   "cell_type": "code",
   "execution_count": 2,
   "id": "bc34ccec",
   "metadata": {},
   "outputs": [],
   "source": []
  },
  {
   "cell_type": "code",
   "execution_count": null,
   "id": "6fb4a2f1",
   "metadata": {},
   "outputs": [],
   "source": []
  },
  {
   "cell_type": "code",
   "execution_count": 1,
   "id": "1167fc03",
   "metadata": {},
   "outputs": [
    {
     "data": {
      "image/png": "[encoded data removed]",
      "text/plain": [
       "<Figure size 360x288 with 2 Axes>"
      ]
     },
     "metadata": {
      "needs_background": "light"
     },
     "output_type": "display_data"
    }
   ],
   "source": [
    "import numpy as np\n",
    "from PMM.PMMInverse import PMMI\n",
    "import os\n",
    "\n",
    "a = 0.020\n",
    "res = 50\n",
    "nx = 18\n",
    "ny = 22\n",
    "dpml = 2\n",
    "b_o = 0.0075/a\n",
    "b_i = 0.0065/a\n",
    "entrance = 0.04/a\n",
    "output = os.getcwd()+'/../outputs'\n",
    "fname = 'Hex5WvgUpUniform'\n",
    "run_no = ['','']\n",
    "\n",
    "## Set up domain geometry #####################################################\n",
    "PPC = PMMI(a, res, nx, ny, dpml) #Initialize PMMI object\n",
    "PPC.Add_INFOMW_Horn(np.array([6.5, 11]), np.array([1,0]), 6.5, pol ='TM')\n",
    "PPC.Add_INFOMW_Horn(4*np.array([0.5, 3**0.5/2])+np.array([10.5,11]), np.array([-0.5,-3**0.5/2]), 8, pol ='TM')\n",
    "PPC.Add_INFOMW_Horn(4*np.array([0.5, -3**0.5/2])+np.array([10.5,11]), np.array([-0.5,3**0.5/2]), 8, pol ='TM')\n",
    "PPC.Design_Region((6.5, 6.5), (8, 9)) #Specify Region where elements are being optimized\n",
    "\n",
    "uniform = True\n",
    "PPC.Rod_Array_Hexagon_train(np.array([10.5,11]), 5, b_i/2**0.5, 1,\\\n",
    "                          a_basis = np.array([[0,1],[np.sqrt(3)/2,1./2]]),\\\n",
    "                          bulbs = True, r_bulb = (b_i, b_o), eps_bulb = 3.8) #Rod ppc array\n",
    "\n",
    "\n",
    "## Set up Sources and Sim #####################################################\n",
    "w = 0.33 #Source frequency\n",
    "wpmax = 0.47\n",
    "gamma = 0#PPC.gamma(1e9)\n",
    "\n",
    "ew = 0.048/a/2-0.004/a\n",
    "hd = 0.089/a\n",
    "x = np.array([1,0])\n",
    "y = np.array([0,1])\n",
    "horn_dir_1 = np.array([0.5,3**0.5/2])\n",
    "horn_dir_2 = np.array([0.5,-3**0.5/2])\n",
    "open_dir_1 = np.array([3**0.5/2,-0.5])\n",
    "open_dir_2 = np.array([3**0.5/2,0.5])\n",
    "cen = np.array([10.5,11])\n",
    "\n",
    "PPC.Add_Source(np.array([6.5-hd,11-ew]), np.array([6.5-hd,11+ew]), w, 'src', 'ez')\n",
    "PPC.Add_Probe((4+hd)*horn_dir_1 + ew*open_dir_1 + cen,\\\n",
    "              (4+hd)*horn_dir_1 - ew*open_dir_1 + cen, w, 'prb1', 'ez')\n",
    "PPC.Add_Probe((4+hd)*horn_dir_2 + ew*open_dir_2 + cen,\\\n",
    "              (4+hd)*horn_dir_2 - ew*open_dir_2 + cen, w, 'prb2', 'ez')\n",
    "PPC.Add_Probe(-4.8*(3**0.5/2)*horn_dir_1 + 2.05*open_dir_1 + cen,\\\n",
    "              -4.8*(3**0.5/2)*horn_dir_1 - 2.05*open_dir_1 + cen, w, 'loss_ul', 'ez')\n",
    "PPC.Add_Probe(-4.8*(3**0.5/2)*horn_dir_2 + 2.05*open_dir_2 + cen,\\\n",
    "              -4.8*(3**0.5/2)*horn_dir_2 - 2.05*open_dir_2 + cen, w, 'loss_ll', 'ez')\n",
    "PPC.Add_Probe(4.8*(3**0.5/2)*x - 2.05*y + cen,\\\n",
    "              4.8*(3**0.5/2)*x + 2.05*y + cen, w, 'loss_R', 'ez')\n",
    "\n",
    "#rod_eps = 0.999*np.ones(61) #Rod perm values\n",
    "#rho = PPC.Eps_to_Rho(epsr = rod_eps, plasma = True, w_src = w, wp_max = wpmax) #Initial Parameters\n",
    "rho = PPC.Read_Params(output+'/params/'+fname+run_no[0]+'.csv')\n",
    "#E0 = PPC.Read_Params(output+'/params/'+fname+'_norm_src.csv')\n",
    "#E0l = PPC.Read_Params(output+'/params/'+fname+'_norm_prb.csv')\n",
    "\n",
    "PPC.Viz_Domain_opt(rho, savepath = output+'/plots/'+fname+run_no[1]+'_domain.pdf',\\\n",
    "                   w = 0.33, src_names = ['src'], prb_names = ['prb1','prb2','loss_ul','loss_ll','loss_R'],\\\n",
    "                   plasma = True, wp_max = wpmax, uniform = uniform, gamma = gamma)"
   ]
  },
  {
   "cell_type": "code",
   "execution_count": 3,
   "id": "3cbb3225",
   "metadata": {},
   "outputs": [
    {
     "data": {
      "text/plain": [
       "14.656921938165304"
      ]
     },
     "execution_count": 3,
     "metadata": {},
     "output_type": "execute_result"
    }
   ],
   "source": [
    "(4.8*(3**0.5/2)*x + 2.05*y + cen)[0]"
   ]
  },
  {
   "cell_type": "code",
   "execution_count": 2,
   "id": "0ac709ef",
   "metadata": {},
   "outputs": [
    {
     "data": {
      "text/plain": [
       "14.656921938165304"
      ]
     },
     "execution_count": 2,
     "metadata": {},
     "output_type": "execute_result"
    }
   ],
   "source": [
    "(4.8*(3**0.5/2)*x - 2.05*y + cen)[0]"
   ]
  },
  {
   "cell_type": "code",
   "execution_count": null,
   "id": "4c8d35de",
   "metadata": {},
   "outputs": [],
   "source": []
  },
  {
   "cell_type": "code",
   "execution_count": null,
   "id": "f984e222",
   "metadata": {},
   "outputs": [],
   "source": []
  },
  {
   "cell_type": "code",
   "execution_count": null,
   "id": "edf9c15e",
   "metadata": {},
   "outputs": [],
   "source": []
  },
  {
   "cell_type": "code",
   "execution_count": null,
   "id": "e20caa40",
   "metadata": {},
   "outputs": [],
   "source": []
  },
  {
   "cell_type": "code",
   "execution_count": null,
   "id": "e32cd127",
   "metadata": {},
   "outputs": [],
   "source": []
  },
  {
   "cell_type": "code",
   "execution_count": null,
   "id": "fa9f2b19",
   "metadata": {},
   "outputs": [],
   "source": []
  },
  {
   "cell_type": "code",
   "execution_count": null,
   "id": "72a4137e",
   "metadata": {},
   "outputs": [],
   "source": []
  },
  {
   "cell_type": "code",
   "execution_count": null,
   "id": "fdd0b033",
   "metadata": {},
   "outputs": [],
   "source": []
  },
  {
   "cell_type": "code",
   "execution_count": null,
   "id": "2b9ebbd1",
   "metadata": {},
   "outputs": [],
   "source": []
  },
  {
   "cell_type": "code",
   "execution_count": null,
   "id": "d3b86223",
   "metadata": {},
   "outputs": [],
   "source": []
  },
  {
   "cell_type": "code",
   "execution_count": null,
   "id": "8fae2300",
   "metadata": {},
   "outputs": [],
   "source": []
  },
  {
   "cell_type": "code",
   "execution_count": null,
   "id": "20cb28d6",
   "metadata": {},
   "outputs": [],
   "source": []
  },
  {
   "cell_type": "code",
   "execution_count": null,
   "id": "0708651e",
   "metadata": {},
   "outputs": [],
   "source": []
  },
  {
   "cell_type": "code",
   "execution_count": null,
   "id": "fd47ca0c",
   "metadata": {},
   "outputs": [],
   "source": []
  },
  {
   "cell_type": "code",
   "execution_count": null,
   "id": "eb3d34e6",
   "metadata": {},
   "outputs": [],
   "source": []
  },
  {
   "cell_type": "code",
   "execution_count": null,
   "id": "cc9da704",
   "metadata": {},
   "outputs": [],
   "source": []
  },
  {
   "cell_type": "code",
   "execution_count": null,
   "id": "04af1138",
   "metadata": {},
   "outputs": [],
   "source": []
  },
  {
   "cell_type": "code",
   "execution_count": null,
   "id": "86988495",
   "metadata": {},
   "outputs": [],
   "source": []
  }
 ],
 "metadata": {
  "kernelspec": {
   "display_name": "Python 3 (ipykernel)",
   "language": "python",
   "name": "python3"
  },
  "language_info": {
   "codemirror_mode": {
    "name": "ipython",
    "version": 3
   },
   "file_extension": ".py",
   "mimetype": "text/x-python",
   "name": "python",
   "nbconvert_exporter": "python",
   "pygments_lexer": "ipython3",
   "version": "3.10.0"
  }
 },
 "nbformat": 4,
 "nbformat_minor": 5
}
